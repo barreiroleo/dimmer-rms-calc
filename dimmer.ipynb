{
 "cells": [
  {
   "cell_type": "markdown",
   "source": [
    "\r\n"
   ],
   "metadata": {}
  },
  {
   "cell_type": "code",
   "execution_count": 1,
   "source": [
    "from dimmer import Dimmer\r\n",
    "import matplotlib.pyplot as plt\r\n",
    "import numpy as np\r\n",
    "\r\n",
    "dimmer = Dimmer(frec=1, amp=1)"
   ],
   "outputs": [],
   "metadata": {}
  },
  {
   "cell_type": "code",
   "execution_count": 3,
   "source": [
    "print(f'Duty 100%           = {dimmer.convert_duty_rms(100):.4f} v')\r\n",
    "print(f'Rms  220v           = {dimmer.convert_rms_duty(220):.4f} %')\r\n",
    "print(f'amplitud            = {dimmer.amplitud}')\r\n",
    "print(f'convert_duty_rms    = {dimmer.convert_duty_rms(100)}')\r\n",
    "print(f'convert_rms_duty    = {dimmer.convert_rms_duty(0.7)}')\r\n",
    "print(f'frequency           = {dimmer.frequency}')\r\n",
    "print(f'solve_tint_for_duty = {dimmer.solve_tint_for_duty(100)}')\r\n",
    "print(f'time_interrupt      = {dimmer.time_interrupt}')\r\n",
    "print(f'v_dimmer            = {dimmer.v_dimmer(0.1)}')\r\n",
    "print(f'_v_sine             = {dimmer._v_sine(0.1)}')\r\n",
    "print(f'vrms_num            = {dimmer.vrms_num()}')\r\n",
    "print(f'vrms_simbolic       = {dimmer.vrms_simbolic()}')"
   ],
   "outputs": [
    {
     "output_type": "stream",
     "name": "stdout",
     "text": [
      "Duty 100%           = 70.7107 v\n",
      "Rms  220v           = 31112.6984 %\n",
      "amplitud            = 1\n",
      "convert_duty_rms    = 70.71067811865476\n",
      "convert_rms_duty    = 98.99494936611664\n",
      "frequency           = 1\n",
      "solve_tint_for_duty = 0.0\n",
      "time_interrupt      = 0.5\n",
      "v_dimmer            = 0\n",
      "_v_sine             = 0.5877852522924731\n",
      "vrms_num            = 0.0\n",
      "vrms_simbolic       = 0.0\n"
     ]
    }
   ],
   "metadata": {}
  },
  {
   "cell_type": "code",
   "execution_count": null,
   "source": [],
   "outputs": [],
   "metadata": {}
  }
 ],
 "metadata": {
  "orig_nbformat": 4,
  "language_info": {
   "name": "python",
   "version": "3.9.1",
   "mimetype": "text/x-python",
   "codemirror_mode": {
    "name": "ipython",
    "version": 3
   },
   "pygments_lexer": "ipython3",
   "nbconvert_exporter": "python",
   "file_extension": ".py"
  },
  "kernelspec": {
   "name": "python3",
   "display_name": "Python 3.9.1 64-bit ('env': venv)"
  },
  "interpreter": {
   "hash": "a4046a09f199e48e61396275ea0e14da7d6ee49ffd95343aa82a9cc54eb636e7"
  }
 },
 "nbformat": 4,
 "nbformat_minor": 2
}